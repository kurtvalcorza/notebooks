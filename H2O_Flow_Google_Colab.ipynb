{
  "nbformat": 4,
  "nbformat_minor": 0,
  "metadata": {
    "colab": {
      "provenance": [],
      "collapsed_sections": [
        "f3042080"
      ],
      "gpuType": "T4",
      "include_colab_link": true
    },
    "kernelspec": {
      "name": "python3",
      "display_name": "Python 3"
    },
    "language_info": {
      "name": "python"
    },
    "accelerator": "GPU"
  },
  "cells": [
    {
      "cell_type": "markdown",
      "metadata": {
        "id": "view-in-github",
        "colab_type": "text"
      },
      "source": [
        "<a href=\"https://colab.research.google.com/github/kurtvalcorza/notebooks/blob/main/H2O_Flow_Google_Colab.ipynb\" target=\"_parent\"><img src=\"https://colab.research.google.com/assets/colab-badge.svg\" alt=\"Open In Colab\"/></a>"
      ]
    },
    {
      "cell_type": "markdown",
      "source": [
        "# H2O Flow in Google Colab"
      ],
      "metadata": {
        "id": "tl-MFlG7HuBS"
      }
    },
    {
      "cell_type": "markdown",
      "metadata": {
        "id": "ee1e6304"
      },
      "source": [
        "This notebook demonstrates how to set up and use H2O Flow in Google Colab. H2O Flow is a web-based interactive environment for machine learning.\n",
        "\n",
        "**Note:** This notebook uses `localtunnel` to expose the H2O Flow interface to the internet. Please be aware of the potential security risks associated with this and refer to the security considerations section for more information.\n",
        "\n",
        "> [!WARNING]\n",
        "- Data Exposure: If you load or work with any sensitive or private data in the H2O instance while the tunnel is active, that data could be accessible to others.\n",
        "- Potential for Unauthorized Access and Code Execution: While H2O has its own security measures, exposing the interface publicly increases the attack surface. Depending on how H2O is configured and what actions are possible through the Flow interface, there could be a risk of unauthorized access or even remote code execution if vulnerabilities exist or configurations are not secure.\n",
        "- Colab Resource Usage: Running this notebook and keeping the H2O instance and localtunnel active will consume your Colab resources (CPU, RAM, and potentially GPU time). If others were to run this notebook from your public repository, they would be using their own Colab resources, but it's something to be mindful of in general.\n",
        "- Only run this notebook with data you are comfortable exposing and terminate the localtunnel process when not in use."
      ]
    },
    {
      "cell_type": "markdown",
      "metadata": {
        "id": "7d04ef7f"
      },
      "source": [
        "### Install Dependencies\n",
        "\n",
        "This cell installs the necessary dependencies:\n",
        "\n",
        "*   `default-jre`: Installs the Java Runtime Environment required to run H2O.\n",
        "*   `h2o`: Installs the H2O Python library.\n",
        "*   `localtunnel`: Installs the `localtunnel` command-line tool to expose the H2O Flow interface to the internet."
      ]
    },
    {
      "cell_type": "code",
      "source": [
        "!apt-get install default-jre\n",
        "!pip install h2o\n",
        "!npm install -g localtunnel"
      ],
      "metadata": {
        "colab": {
          "base_uri": "https://localhost:8080/"
        },
        "id": "bQ1RKR5FDAoN",
        "outputId": "d0635d61-4eca-475b-fcfe-6d4f7a99b13f"
      },
      "execution_count": null,
      "outputs": [
        {
          "output_type": "stream",
          "name": "stdout",
          "text": [
            "Reading package lists... Done\n",
            "Building dependency tree... Done\n",
            "Reading state information... Done\n",
            "The following additional packages will be installed:\n",
            "  default-jre-headless fonts-dejavu-core fonts-dejavu-extra\n",
            "  libatk-wrapper-java libatk-wrapper-java-jni libxtst6 libxxf86dga1\n",
            "  openjdk-11-jre x11-utils\n",
            "Suggested packages:\n",
            "  mesa-utils\n",
            "The following NEW packages will be installed:\n",
            "  default-jre default-jre-headless fonts-dejavu-core fonts-dejavu-extra\n",
            "  libatk-wrapper-java libatk-wrapper-java-jni libxtst6 libxxf86dga1\n",
            "  openjdk-11-jre x11-utils\n",
            "0 upgraded, 10 newly installed, 0 to remove and 35 not upgraded.\n",
            "Need to get 3,634 kB of archives.\n",
            "After this operation, 12.4 MB of additional disk space will be used.\n",
            "Get:1 http://archive.ubuntu.com/ubuntu jammy/main amd64 default-jre-headless amd64 2:1.11-72build2 [3,042 B]\n",
            "Get:2 http://archive.ubuntu.com/ubuntu jammy/main amd64 libxtst6 amd64 2:1.2.3-1build4 [13.4 kB]\n",
            "Get:3 http://archive.ubuntu.com/ubuntu jammy-updates/main amd64 openjdk-11-jre amd64 11.0.27+6~us1-0ubuntu1~22.04 [214 kB]\n",
            "Get:4 http://archive.ubuntu.com/ubuntu jammy/main amd64 default-jre amd64 2:1.11-72build2 [896 B]\n",
            "Get:5 http://archive.ubuntu.com/ubuntu jammy/main amd64 fonts-dejavu-core all 2.37-2build1 [1,041 kB]\n",
            "Get:6 http://archive.ubuntu.com/ubuntu jammy/main amd64 fonts-dejavu-extra all 2.37-2build1 [2,041 kB]\n",
            "Get:7 http://archive.ubuntu.com/ubuntu jammy/main amd64 libxxf86dga1 amd64 2:1.1.5-0ubuntu3 [12.6 kB]\n",
            "Get:8 http://archive.ubuntu.com/ubuntu jammy/main amd64 x11-utils amd64 7.7+5build2 [206 kB]\n",
            "Get:9 http://archive.ubuntu.com/ubuntu jammy/main amd64 libatk-wrapper-java all 0.38.0-5build1 [53.1 kB]\n",
            "Get:10 http://archive.ubuntu.com/ubuntu jammy/main amd64 libatk-wrapper-java-jni amd64 0.38.0-5build1 [49.0 kB]\n",
            "Fetched 3,634 kB in 2s (1,540 kB/s)\n",
            "Selecting previously unselected package default-jre-headless.\n",
            "(Reading database ... 126281 files and directories currently installed.)\n",
            "Preparing to unpack .../0-default-jre-headless_2%3a1.11-72build2_amd64.deb ...\n",
            "Unpacking default-jre-headless (2:1.11-72build2) ...\n",
            "Selecting previously unselected package libxtst6:amd64.\n",
            "Preparing to unpack .../1-libxtst6_2%3a1.2.3-1build4_amd64.deb ...\n",
            "Unpacking libxtst6:amd64 (2:1.2.3-1build4) ...\n",
            "Selecting previously unselected package openjdk-11-jre:amd64.\n",
            "Preparing to unpack .../2-openjdk-11-jre_11.0.27+6~us1-0ubuntu1~22.04_amd64.deb ...\n",
            "Unpacking openjdk-11-jre:amd64 (11.0.27+6~us1-0ubuntu1~22.04) ...\n",
            "Selecting previously unselected package default-jre.\n",
            "Preparing to unpack .../3-default-jre_2%3a1.11-72build2_amd64.deb ...\n",
            "Unpacking default-jre (2:1.11-72build2) ...\n",
            "Selecting previously unselected package fonts-dejavu-core.\n",
            "Preparing to unpack .../4-fonts-dejavu-core_2.37-2build1_all.deb ...\n",
            "Unpacking fonts-dejavu-core (2.37-2build1) ...\n",
            "Selecting previously unselected package fonts-dejavu-extra.\n",
            "Preparing to unpack .../5-fonts-dejavu-extra_2.37-2build1_all.deb ...\n",
            "Unpacking fonts-dejavu-extra (2.37-2build1) ...\n",
            "Selecting previously unselected package libxxf86dga1:amd64.\n",
            "Preparing to unpack .../6-libxxf86dga1_2%3a1.1.5-0ubuntu3_amd64.deb ...\n",
            "Unpacking libxxf86dga1:amd64 (2:1.1.5-0ubuntu3) ...\n",
            "Selecting previously unselected package x11-utils.\n",
            "Preparing to unpack .../7-x11-utils_7.7+5build2_amd64.deb ...\n",
            "Unpacking x11-utils (7.7+5build2) ...\n",
            "Selecting previously unselected package libatk-wrapper-java.\n",
            "Preparing to unpack .../8-libatk-wrapper-java_0.38.0-5build1_all.deb ...\n",
            "Unpacking libatk-wrapper-java (0.38.0-5build1) ...\n",
            "Selecting previously unselected package libatk-wrapper-java-jni:amd64.\n",
            "Preparing to unpack .../9-libatk-wrapper-java-jni_0.38.0-5build1_amd64.deb ...\n",
            "Unpacking libatk-wrapper-java-jni:amd64 (0.38.0-5build1) ...\n",
            "Setting up default-jre-headless (2:1.11-72build2) ...\n",
            "Setting up libxtst6:amd64 (2:1.2.3-1build4) ...\n",
            "Setting up libxxf86dga1:amd64 (2:1.1.5-0ubuntu3) ...\n",
            "Setting up openjdk-11-jre:amd64 (11.0.27+6~us1-0ubuntu1~22.04) ...\n",
            "Setting up default-jre (2:1.11-72build2) ...\n",
            "Setting up fonts-dejavu-core (2.37-2build1) ...\n",
            "Setting up fonts-dejavu-extra (2.37-2build1) ...\n",
            "Setting up x11-utils (7.7+5build2) ...\n",
            "Setting up libatk-wrapper-java (0.38.0-5build1) ...\n",
            "Setting up libatk-wrapper-java-jni:amd64 (0.38.0-5build1) ...\n",
            "Processing triggers for fontconfig (2.13.1-4.2ubuntu5) ...\n",
            "Processing triggers for hicolor-icon-theme (0.17-2) ...\n",
            "Processing triggers for libc-bin (2.35-0ubuntu3.8) ...\n",
            "/sbin/ldconfig.real: /usr/local/lib/libtbbmalloc.so.2 is not a symbolic link\n",
            "\n",
            "/sbin/ldconfig.real: /usr/local/lib/libhwloc.so.15 is not a symbolic link\n",
            "\n",
            "/sbin/ldconfig.real: /usr/local/lib/libtcm_debug.so.1 is not a symbolic link\n",
            "\n",
            "/sbin/ldconfig.real: /usr/local/lib/libtbbbind.so.3 is not a symbolic link\n",
            "\n",
            "/sbin/ldconfig.real: /usr/local/lib/libur_adapter_level_zero_v2.so.0 is not a symbolic link\n",
            "\n",
            "/sbin/ldconfig.real: /usr/local/lib/libtbb.so.12 is not a symbolic link\n",
            "\n",
            "/sbin/ldconfig.real: /usr/local/lib/libtcm.so.1 is not a symbolic link\n",
            "\n",
            "/sbin/ldconfig.real: /usr/local/lib/libur_adapter_opencl.so.0 is not a symbolic link\n",
            "\n",
            "/sbin/ldconfig.real: /usr/local/lib/libumf.so.0 is not a symbolic link\n",
            "\n",
            "/sbin/ldconfig.real: /usr/local/lib/libtbbbind_2_5.so.3 is not a symbolic link\n",
            "\n",
            "/sbin/ldconfig.real: /usr/local/lib/libur_adapter_level_zero.so.0 is not a symbolic link\n",
            "\n",
            "/sbin/ldconfig.real: /usr/local/lib/libur_loader.so.0 is not a symbolic link\n",
            "\n",
            "/sbin/ldconfig.real: /usr/local/lib/libtbbbind_2_0.so.3 is not a symbolic link\n",
            "\n",
            "/sbin/ldconfig.real: /usr/local/lib/libtbbmalloc_proxy.so.2 is not a symbolic link\n",
            "\n",
            "Processing triggers for man-db (2.10.2-1) ...\n",
            "Processing triggers for mailcap (3.70+nmu1ubuntu1) ...\n",
            "openjdk version \"11.0.27\" 2025-04-15\n",
            "OpenJDK Runtime Environment (build 11.0.27+6-post-Ubuntu-0ubuntu122.04)\n",
            "OpenJDK 64-Bit Server VM (build 11.0.27+6-post-Ubuntu-0ubuntu122.04, mixed mode, sharing)\n",
            "Collecting h2o\n",
            "  Downloading h2o-3.46.0.7-py2.py3-none-any.whl.metadata (2.1 kB)\n",
            "Requirement already satisfied: requests in /usr/local/lib/python3.11/dist-packages (from h2o) (2.32.3)\n",
            "Requirement already satisfied: tabulate in /usr/local/lib/python3.11/dist-packages (from h2o) (0.9.0)\n",
            "Requirement already satisfied: charset-normalizer<4,>=2 in /usr/local/lib/python3.11/dist-packages (from requests->h2o) (3.4.2)\n",
            "Requirement already satisfied: idna<4,>=2.5 in /usr/local/lib/python3.11/dist-packages (from requests->h2o) (3.10)\n",
            "Requirement already satisfied: urllib3<3,>=1.21.1 in /usr/local/lib/python3.11/dist-packages (from requests->h2o) (2.4.0)\n",
            "Requirement already satisfied: certifi>=2017.4.17 in /usr/local/lib/python3.11/dist-packages (from requests->h2o) (2025.7.9)\n",
            "Downloading h2o-3.46.0.7-py2.py3-none-any.whl (265.9 MB)\n",
            "\u001b[2K   \u001b[90m━━━━━━━━━━━━━━━━━━━━━━━━━━━━━━━━━━━━━━━━\u001b[0m \u001b[32m265.9/265.9 MB\u001b[0m \u001b[31m5.1 MB/s\u001b[0m eta \u001b[36m0:00:00\u001b[0m\n",
            "\u001b[?25hInstalling collected packages: h2o\n",
            "Successfully installed h2o-3.46.0.7\n",
            "\u001b[1G\u001b[0K⠙\u001b[1G\u001b[0K⠹\u001b[1G\u001b[0K⠸\u001b[1G\u001b[0K⠼\u001b[1G\u001b[0K⠴\u001b[1G\u001b[0K⠦\u001b[1G\u001b[0K⠧\u001b[1G\u001b[0K⠇\u001b[1G\u001b[0K⠏\u001b[1G\u001b[0K⠋\u001b[1G\u001b[0K⠙\u001b[1G\u001b[0K⠹\u001b[1G\u001b[0K⠸\u001b[1G\u001b[0K⠼\u001b[1G\u001b[0K⠴\u001b[1G\u001b[0K⠦\u001b[1G\u001b[0K\n",
            "added 22 packages in 2s\n",
            "\u001b[1G\u001b[0K⠦\u001b[1G\u001b[0K\n",
            "\u001b[1G\u001b[0K⠦\u001b[1G\u001b[0K3 packages are looking for funding\n",
            "\u001b[1G\u001b[0K⠦\u001b[1G\u001b[0K  run `npm fund` for details\n",
            "\u001b[1G\u001b[0K⠦\u001b[1G\u001b[0K"
          ]
        }
      ]
    },
    {
      "cell_type": "markdown",
      "source": [
        "Note: While not strictly necessary for the notebook to run, this cell is useful for verifying the Java installation and version, which is a dependency for H2O."
      ],
      "metadata": {
        "id": "ruRVK_GWLC4W"
      }
    },
    {
      "cell_type": "code",
      "source": [
        "!java -version"
      ],
      "metadata": {
        "id": "YyDeWEasLmE0"
      },
      "execution_count": null,
      "outputs": []
    },
    {
      "cell_type": "markdown",
      "metadata": {
        "id": "9eb24122"
      },
      "source": [
        "### Initialize H2O and Expose with localtunnel\n",
        "\n",
        "This cell initializes the H2O server and sets up `localtunnel` to create a publicly accessible URL for the H2O Flow interface.\n",
        "\n",
        "*   `h2o.init(bind_to_localhost=False, log_dir=\"./\")`: Initializes the H2O server. Setting `bind_to_localhost=False` allows access from outside of the local machine.\n",
        "*   `from google.colab.output import eval_js`: Imports the `eval_js` function to execute JavaScript code in the Colab environment.\n",
        "*   `print(eval_js(\"google.colab.kernel.proxyPort(54321)\"))`: This line uses `eval_js` to get the public URL for the proxied port 54321, which is the default port for H2O.\n",
        "\n",
        "**Security Considerations:**\n",
        "\n",
        "As mentioned, using `localtunnel` exposes your H2O instance to the public internet. Be mindful of the following:\n",
        "\n",
        "*   **Data Security**: Avoid using sensitive data in a notebook where `localtunnel` is used to expose the H2O instance.\n",
        "*   **Code Execution**: Be aware that exposing the H2O interface might allow external users to interact with your H2O instance and potentially execute code.\n",
        "*   **Close the Tunnel**: Remember to interrupt the `localtunnel` process (`!lt --port 54321`) when you are finished to close the public tunnel."
      ]
    },
    {
      "cell_type": "code",
      "source": [
        "import h2o\n",
        "h2o.init(bind_to_localhost=False, log_dir=\"./\")\n",
        "from google.colab.output import eval_js\n",
        "print(eval_js(\"google.colab.kernel.proxyPort(54321)\"))"
      ],
      "metadata": {
        "id": "-ZVtxZ_HDCRi"
      },
      "execution_count": null,
      "outputs": []
    },
    {
      "cell_type": "markdown",
      "metadata": {
        "id": "a6d56c90"
      },
      "source": [
        "### Get localtunnel Password\n",
        "\n",
        "This cell retrieves the password for the `localtunnel` URL. You will need this password to access the H2O Flow interface through the public URL."
      ]
    },
    {
      "cell_type": "code",
      "source": [
        "!wget -q -O - https://loca.lt/mytunnelpassword"
      ],
      "metadata": {
        "id": "E1IRjfTFDFdY"
      },
      "execution_count": null,
      "outputs": []
    },
    {
      "cell_type": "markdown",
      "metadata": {
        "id": "db0a98b8"
      },
      "source": [
        "### Start localtunnel\n",
        "\n",
        "This cell starts the `localtunnel` process, creating a public URL that forwards to the H2O instance running on port 54321. The output of this cell will display the public URL you can use to access H2O Flow."
      ]
    },
    {
      "cell_type": "code",
      "source": [
        "!lt --port 54321"
      ],
      "metadata": {
        "id": "t5-eV4MMDgbi"
      },
      "execution_count": null,
      "outputs": []
    }
  ]
}